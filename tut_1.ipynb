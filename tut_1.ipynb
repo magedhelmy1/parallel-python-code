{
 "cells": [
  {
   "cell_type": "code",
   "execution_count": 6,
   "id": "italian-comment",
   "metadata": {},
   "outputs": [
    {
     "name": "stderr",
     "output_type": "stream",
     "text": [
      "2021-03-06 19:25:55,030\tINFO services.py:1174 -- View the Ray dashboard at \u001b[1m\u001b[32mhttp://127.0.0.1:8265\u001b[39m\u001b[22m\n"
     ]
    },
    {
     "data": {
      "text/plain": [
       "{'node_ip_address': '192.168.132.139',\n",
       " 'raylet_ip_address': '192.168.132.139',\n",
       " 'redis_address': '192.168.132.139:6379',\n",
       " 'object_store_address': '/tmp/ray/session_2021-03-06_19-25-54_587548_8282/sockets/plasma_store',\n",
       " 'raylet_socket_name': '/tmp/ray/session_2021-03-06_19-25-54_587548_8282/sockets/raylet',\n",
       " 'webui_url': '127.0.0.1:8265',\n",
       " 'session_dir': '/tmp/ray/session_2021-03-06_19-25-54_587548_8282',\n",
       " 'metrics_export_port': 64286,\n",
       " 'node_id': 'aaf0158dd7475e7ca59e6987499dd59a6c33da39677179ca7a2d26a8'}"
      ]
     },
     "execution_count": 6,
     "metadata": {},
     "output_type": "execute_result"
    }
   ],
   "source": [
    "import cv2\n",
    "import numpy as np\n",
    "import time\n",
    "import ray\n",
    "\n",
    "ray.init()"
   ]
  },
  {
   "cell_type": "code",
   "execution_count": 7,
   "id": "level-techno",
   "metadata": {},
   "outputs": [
    {
     "name": "stdout",
     "output_type": "stream",
     "text": [
      "5.873081922531128\n"
     ]
    }
   ],
   "source": [
    "@ray.remote\n",
    "def import_1():\n",
    "    return cv2.imread(\"image.jpg\", flags=0)\n",
    "\n",
    "@ray.remote\n",
    "def import_2():\n",
    "    return cv2.imread(\"image.jpg\", flags=0)\n",
    "\n",
    "@ray.remote\n",
    "def import_3():\n",
    "    return cv2.imread(\"image.jpg\", flags=0)\n",
    "\n",
    "@ray.remote\n",
    "def import_4():\n",
    "    return cv2.imread(\"image.jpg\", flags=0)\n",
    "\n",
    "@ray.remote\n",
    "def import_5():\n",
    "    return cv2.imread(\"image.jpg\", flags=0)\n",
    "\n",
    "@ray.remote\n",
    "def import_6():\n",
    "    return cv2.imread(\"image.jpg\", flags=0)\n",
    "\n",
    "@ray.remote\n",
    "def import_7():\n",
    "    return cv2.imread(\"image.jpg\", flags=0)\n",
    "\n",
    "@ray.remote\n",
    "def import_8():\n",
    "    return cv2.imread(\"image.jpg\", flags=0)\n",
    "\n",
    "@ray.remote\n",
    "def dot_image_1(image):\n",
    "    return np.dot(image,image.T)\n",
    "\n",
    "@ray.remote\n",
    "def dot_image_2(image):\n",
    "    return np.dot(image,image.T)\n",
    "@ray.remote\n",
    "def dot_image_3(image):\n",
    "    return np.dot(image,image.T)\n",
    "\n",
    "@ray.remote\n",
    "def dot_image_4(image):\n",
    "    return np.dot(image,image.T)\n",
    "\n",
    "@ray.remote\n",
    "def dot_image_5(image):\n",
    "    return np.dot(image,image.T)\n",
    "\n",
    "@ray.remote\n",
    "def dot_image_6(image):\n",
    "    return np.dot(image,image.T)\n",
    "\n",
    "@ray.remote\n",
    "def dot_image_7(image):\n",
    "    return np.dot(image,image.T)\n",
    "\n",
    "@ray.remote\n",
    "def dot_image_8(image):\n",
    "    return np.dot(image,image.T)\n",
    "\n",
    "@ray.remote\n",
    "def merge_array(*args):\n",
    "    return np.array([*args])\n",
    "\n",
    "\n",
    "start=time.time()\n",
    "\n",
    "multi_mat_1= dot_image_1.remote(import_1.remote())\n",
    "multi_mat_2= dot_image_2.remote(import_2.remote())\n",
    "multi_mat_3= dot_image_3.remote(import_3.remote())\n",
    "multi_mat_4= dot_image_4.remote(import_4.remote())\n",
    "multi_mat_5= dot_image_5.remote(import_5.remote())\n",
    "multi_mat_6= dot_image_6.remote(import_6.remote())\n",
    "multi_mat_7= dot_image_7.remote(import_7.remote())\n",
    "multi_mat_8= dot_image_8.remote(import_8.remote())\n",
    "\n",
    "result= merge_array.remote(multi_mat_1,multi_mat_2,multi_mat_3,multi_mat_4,multi_mat_5,multi_mat_6,\\\n",
    "                   multi_mat_7,multi_mat_8)\n",
    "\n",
    "ray.get(result)\n",
    "\n",
    "duration=time.time() - start\n",
    "print(duration)"
   ]
  },
  {
   "cell_type": "code",
   "execution_count": null,
   "id": "floppy-observation",
   "metadata": {},
   "outputs": [],
   "source": [
    "#11.8\n",
    "#5.9"
   ]
  }
 ],
 "metadata": {
  "kernelspec": {
   "display_name": "Python 3",
   "language": "python",
   "name": "python3"
  },
  "language_info": {
   "codemirror_mode": {
    "name": "ipython",
    "version": 3
   },
   "file_extension": ".py",
   "mimetype": "text/x-python",
   "name": "python",
   "nbconvert_exporter": "python",
   "pygments_lexer": "ipython3",
   "version": "3.7.10"
  }
 },
 "nbformat": 4,
 "nbformat_minor": 5
}
